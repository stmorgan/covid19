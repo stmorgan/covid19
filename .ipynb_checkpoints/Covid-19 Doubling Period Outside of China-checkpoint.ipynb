{
 "cells": [
  {
   "cell_type": "markdown",
   "metadata": {},
   "source": [
    "# Covid 19 Doubling Period Outside of China\n",
    "Author: Scott Morgan"
   ]
  },
  {
   "cell_type": "markdown",
   "metadata": {},
   "source": [
    "The following describes a Python program for calculating the Covid-19 doubling period using data from outside of China. Data for this project comes from the Johns Hopkins University Coronavirus Map (https://coronavirus.jhu.edu/map.html). \n",
    "In the early stages of a pandemic, the number of infected increases exponentially and it is the exponential growth that we'll model. We'll create and exponential model containing two unknown parameters and use the exising number of infected over time to calculate the model parameters that minimize the square error between the model and the data. \n",
    "## Math\n",
    "### Model\n",
    "$$\\hat{y}=A2^{\\frac{t}{\\tau}}$$\n",
    "$\\tau$ is the doubling period and $\\hat{y}$ is an estimate of the number of infected at time $t$, the number of days after January 19, 2020. $A$ is a constant representing the initial number of infected. \n",
    "### Linearizing\n",
    "$$\\ln{\\hat{y}}=\\ln{A}+\\frac{t}{\\tau}\\ln{2}$$\n",
    "### System of equations from model\n",
    "We can create a system of linear equations from the model output at each day. \n",
    "$$\\begin{matrix}\\ln{\\hat{y}_{1}}=\\ln{A}+\\frac{t_1}{\\tau}\\ln{2} \\\\ \\vdots \\\\ \\ln{\\hat{y}_{n}}=\\ln{A}+\\frac{t_n}{\\tau}\\ln{2} \\end{matrix}$$\n",
    "### Matrix Representation\n",
    "Now we can represent the system of linear equations in matrix form. \n",
    "$$\\begin{pmatrix}\\hat{y}_1 \\\\ \\vdots \\\\ \\hat{y}_n \\end{pmatrix}=\\begin{bmatrix}t_1\\ln{2} & 1 \\\\ \\vdots & \\vdots \\\\ t_n\\ln{2} & 1\\end{bmatrix}\\begin{bmatrix}\\frac{1}{\\tau} \\\\ \\ln{A} \\\\ \\end{bmatrix}$$\n",
    "Define additional matrices as\n",
    "\\begin{equation}\n",
    "    \\begin{aligned}\n",
    "   \\hat{Y} &= \\begin{pmatrix}\\hat{y}_1 \\\\ \\vdots \\\\ \\hat{y}_n \\end{pmatrix} \\\\[5pt]\n",
    "    H&=\\begin{bmatrix}t_1\\ln{2} & 1 \\\\ \\vdots & \\vdots \\\\ t_n\\ln{2} & 1\\end{bmatrix} \\\\[5pt]\n",
    "  \\Theta&=\\begin{bmatrix}\\frac{1}{\\tau} \\\\ \\ln{A} \\end{bmatrix}=\\begin{bmatrix}\\theta_1 \\\\ \\theta_2 \\end{bmatrix} \\\\[5pt]\n",
    "    \\end{aligned}\n",
    "\\end{equation} \n",
    "Then $$\\hat{Y}=H\\Theta$$\n",
    "### Least Squares Solution\n",
    "Let the vector of actual measurements of the infected for each day be \n",
    "$$Y = \\begin{pmatrix}y_1 \\\\ \\vdots \\\\ y_n \\end{pmatrix}$$\n",
    "It is known that the parameters $\\theta_1$ and $\\theta_2$ associated with the least squares fit of the data to the model are given by \n",
    "$$\\Theta=[H^TH]^{-1}H^TY$$\n",
    "So, \n",
    "$$\\theta_1 = \\frac{1}{\\tau}$$\n",
    "and \n",
    "$$\\theta_2 = \\ln{A}$$\n",
    "Which gives the doubling period $\\tau$ by\n",
    "$$\\tau=\\frac{1}{\\theta_1}$$\n",
    "and A, the number of initial infected, as \n",
    "$$A=e^{\\theta_2}$$\n",
    "## Further Reading\n",
    "For more on the matematics of the Coronavirus, see Mathematics of the Corona outbreak – with professor Tom Britton (https://www.youtube.com/watch?v=gSqIwXl6IjQ).\n",
    "## Code\n",
    "The code for this project follows, along with a plot of the model and exising data. "
   ]
  },
  {
   "cell_type": "code",
   "execution_count": 15,
   "metadata": {},
   "outputs": [
    {
     "name": "stdout",
     "output_type": "stream",
     "text": [
      "\n",
      "A\n",
      "11.9\n",
      "\n",
      "tau\n",
      "4.41\n",
      "\n",
      "Time to 1,000,000 infected: 72.2 days after January 19\n"
     ]
    },
    {
     "data": {
      "image/png": "[encoded data removed]",
      "text/plain": [
       "<Figure size 432x288 with 1 Axes>"
      ]
     },
     "metadata": {
      "needs_background": "light"
     },
     "output_type": "display_data"
    }
   ],
   "source": [
    "import numpy as np\n",
    "import matplotlib.pyplot as plt\n",
    "import math\n",
    "\n",
    "from matplotlib import rcParams\n",
    "rcParams.update({'figure.autolayout': True})\n",
    "\n",
    "%matplotlib inline\n",
    "\n",
    "# Source of data from outside of China: https://coronavirus.jhu.edu/map.html \n",
    "Y = np.array([4, 6, 8 ,14, 25, 40, 57, 64, 87, 105, 118, \n",
    "              153, 173, 183, 188, 212, 227, 265, 317, 343, \n",
    "              361,457, 476, 523, 538, 595, 685, 780, 896, \n",
    "              1000, 1100, 1200, 1400, 1700, 2000, 2400, \n",
    "              2600, 3300, 4300, 5300, 6500, 8500, 10300, \n",
    "              12700, 14900, 17500, 21200, 25200, 29100, \n",
    "              32800, 37800, 44900, 47400, 63600, 75100, \n",
    "              81700, 100500, 116100, 133800, 161600, 190900, 232200])\n",
    "\n",
    "T = np.arange(1,Y.size + 1)\n",
    "Tln2 = T*(np.log(2))\n",
    "Ones = np.ones(Y.size)\n",
    "H = np.concatenate([Tln2, Ones])\n",
    "Ht = np.reshape(H, (2, Y.size))\n",
    "H = np.transpose(Ht)\n",
    "lnY = np.log(Y)\n",
    "# m, c = np.linalg.lstsq(H, lnY, rcond=None)[0] # Alternate calculation \n",
    "Hinv = np.linalg.pinv(H)\n",
    "Theta = np.matmul(Hinv, lnY)\n",
    "m = Theta[0]\n",
    "c = Theta[1]\n",
    "A = np.exp(c)\n",
    "print(\"\\nA\")\n",
    "print(f\"{A:{4}.{3}}\")\n",
    "tau = 1/m\n",
    "print(\"\\ntau\")\n",
    "print(f\"{tau:{4}.{3}}\")\n",
    "Ym = A*np.power(2, T/tau)\n",
    "plt.plot(T, Y, label='actual')\n",
    "plt.plot(T, Ym, label='model')\n",
    "plt.title(\"Covid-19 Doubling Period Outside of China\")\n",
    "plt.xlabel(\"Time t (days after January 1\\9, 2020)\")\n",
    "plt.ylabel(\"Number Infected I\")\n",
    "plt.annotate(f'Doubling period = {tau:{4}.{3}} days', xy=(0.25, 0.5), xycoords='figure fraction')\n",
    "plt.annotate(f'Model: I = {A:{4}.{3}} x 2^(t/{tau:{4}.{3}})', xy=(0.25, 0.4), xycoords='figure fraction')\n",
    "plt.legend()\n",
    "plt.savefig('covid19.png')\n",
    "\n",
    "time_to_million = (tau/math.log(2))*(math.log(1000000/A))\n",
    "\n",
    "print(f\"\\nTime to 1,000,000 infected: {time_to_million:{4}.{3}} days after January 19\")"
   ]
  },
  {
   "cell_type": "code",
   "execution_count": null,
   "metadata": {},
   "outputs": [],
   "source": []
  }
 ],
 "metadata": {
  "kernelspec": {
   "display_name": "Python 3",
   "language": "python",
   "name": "python3"
  },
  "language_info": {
   "codemirror_mode": {
    "name": "ipython",
    "version": 3
   },
   "file_extension": ".py",
   "mimetype": "text/x-python",
   "name": "python",
   "nbconvert_exporter": "python",
   "pygments_lexer": "ipython3",
   "version": "3.7.4"
  }
 },
 "nbformat": 4,
 "nbformat_minor": 2
}
